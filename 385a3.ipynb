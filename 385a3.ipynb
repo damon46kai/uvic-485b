{
  "nbformat": 4,
  "nbformat_minor": 0,
  "metadata": {
    "colab": {
      "name": "385a3.ipynb",
      "provenance": [],
      "collapsed_sections": [],
      "toc_visible": true
    },
    "kernelspec": {
      "display_name": "Python 3",
      "name": "python3"
    },
    "language_info": {
      "name": "python"
    }
  },
  "cells": [
    {
      "cell_type": "code",
      "metadata": {
        "colab": {
          "base_uri": "https://localhost:8080/"
        },
        "id": "pRhETzBp6zOS",
        "outputId": "1ad24467-18c0-4bfc-b662-bfc28ca4bbf7"
      },
      "source": [
        "!apt-get install openjdk-8-jdk-headless -qq > /dev/null\n",
        "!wget -q https://apache.mirror.colo-serv.net/spark/spark-2.4.7/spark-2.4.7-bin-hadoop2.7.tgz\n",
        "!tar xf spark-2.4.7-bin-hadoop2.7.tgz\n",
        "!pip install -q findspark\n",
        "import os\n",
        "os.environ[\"JAVA_HOME\"] = \"/usr/lib/jvm/java-8-openjdk-amd64\"\n",
        "os.environ[\"SPARK_HOME\"] = \"/content/spark-2.4.7-bin-hadoop2.7\"\n",
        "\n",
        "import findspark\n",
        "findspark.init(\"spark-2.4.7-bin-hadoop2.7\")# SPARK_HOME\n",
        "\n",
        "import pyspark\n",
        "from pyspark.sql import *\n",
        "from pyspark.sql.functions import *\n",
        "from pyspark import SparkContext, SparkConf\n",
        "\n",
        "sc = SparkContext.getOrCreate()\n",
        "spark = SparkSession.builder.getOrCreate()\n",
        "\n"
      ],
      "execution_count": null,
      "outputs": [
        {
          "output_type": "stream",
          "text": [
            "Reading package lists... Done\n",
            "Building dependency tree       \n",
            "Reading state information... Done\n",
            "python3 is already the newest version (3.6.7-1~18.04).\n",
            "python3 set to manually installed.\n",
            "0 upgraded, 0 newly installed, 0 to remove and 30 not upgraded.\n"
          ],
          "name": "stdout"
        }
      ]
    },
    {
      "cell_type": "code",
      "metadata": {
        "id": "yzF1OmxNt_hM"
      },
      "source": [
        ""
      ],
      "execution_count": null,
      "outputs": []
    },
    {
      "cell_type": "code",
      "metadata": {
        "id": "JOhAmUrJQ7HN"
      },
      "source": [
        "# geting the data. Using the code from Q&A\n",
        "!wget http://files.grouplens.org/datasets/movielens/ml-latest-small.zip\n",
        "!unzip ml-latest-small.zip\n",
        "!mv ml-latest-small/ratings.csv .\n",
        "!mv ml-latest-small/movies.csv .\n",
        "linesRDD = sc.textFile(\"ratings.csv\")"
      ],
      "execution_count": null,
      "outputs": []
    },
    {
      "cell_type": "markdown",
      "metadata": {
        "id": "wgvxHyo6QwTz"
      },
      "source": [
        "#1. Find the average rating for each user and movie"
      ]
    },
    {
      "cell_type": "code",
      "metadata": {
        "id": "Z48Pc72BF9mx"
      },
      "source": [
        "# filter the data to only contain the column user and movie\n",
        "linesRDD = sc.textFile(\"ratings.csv\")\n",
        "header=linesRDD.first()\n",
        "linesRDD=linesRDD.filter(lambda row: True if row != header else False)\n",
        "\n",
        "#tuples:\n",
        "lines_list = linesRDD.map(lambda line: line.split(','))\n",
        "\n",
        "#flatmap, here we actually do not need the last timestamp for calculating the average of each user. \n",
        "#we need to get the pair of each (user rating) and (movie rating)\n",
        "user_rating=lines_list.flatMap(lambda data: (('u'+data[0],float(data[2])),))\n",
        "movie_rating=lines_list.flatMap(lambda data: (('m'+data[1],float(data[2])),))\n",
        "\n",
        "\n",
        "#check the output\n",
        "print(linesRDD.take(5))\n",
        "print(lines_list.take(5))\n",
        "print(user_rating.take(10))\n",
        "print(movie_rating.take(10))"
      ],
      "execution_count": null,
      "outputs": []
    },
    {
      "cell_type": "markdown",
      "metadata": {
        "id": "8CWp7dx-s8Qd"
      },
      "source": [
        "# New Section"
      ]
    },
    {
      "cell_type": "code",
      "metadata": {
        "colab": {
          "base_uri": "https://localhost:8080/"
        },
        "id": "_1Gk94vR8r_7",
        "outputId": "ed321c44-c6a9-4c5d-8e50-684860f0e3bf"
      },
      "source": [
        "#first input the data to the script\n",
        "from google.colab import drive\n",
        "drive.mount('/content/drive')\n",
        "\n",
        "import csv\n",
        "datafile = open('/content/movies.csv', 'r')\n",
        "myreader = csv.reader(datafile)\n",
        "\n",
        "movieGenres = {}\n",
        "for row in myreader:\n",
        "    movieGenres[row[0]] = row[2].split('|')"
      ],
      "execution_count": null,
      "outputs": [
        {
          "output_type": "stream",
          "text": [
            "Drive already mounted at /content/drive; to attempt to forcibly remount, call drive.mount(\"/content/drive\", force_remount=True).\n"
          ],
          "name": "stdout"
        }
      ]
    },
    {
      "cell_type": "code",
      "metadata": {
        "colab": {
          "base_uri": "https://localhost:8080/"
        },
        "id": "wtgBYBthHXFr",
        "outputId": "13c0272a-88c1-41ee-87b4-34ba468b414b"
      },
      "source": [
        "type(movieGenres)"
      ],
      "execution_count": null,
      "outputs": [
        {
          "output_type": "execute_result",
          "data": {
            "text/plain": [
              "dict"
            ]
          },
          "metadata": {
            "tags": []
          },
          "execution_count": 42
        }
      ]
    },
    {
      "cell_type": "code",
      "metadata": {
        "id": "0DxROj6CF3Dd"
      },
      "source": [
        "#as we know that the movieGenres are a dictionary of python, we can directy use it to map to the RDD \n",
        "#here we map the rating to the genre and match the movie id. \n",
        "combined_rdd=lines_list.flatMap(lambda rdd:[(genre,float(rdd[2])) for genre in movieGenres[rdd[1]]])"
      ],
      "execution_count": null,
      "outputs": []
    },
    {
      "cell_type": "code",
      "metadata": {
        "id": "zahXNXGSAIXr",
        "colab": {
          "base_uri": "https://localhost:8080/"
        },
        "outputId": "396afcdc-2501-46bb-d5f1-a9f020072de5"
      },
      "source": [
        "#then we the same method as the first question to calcualte the average for each genre\n",
        "sumcntRDD_combined = combined_rdd.aggregateByKey((0,0),lambda acc,rating: (acc[0]+rating, acc[1]+1), lambda acc1, acc2: (acc1[0]+acc2[0], acc1[1]+acc2[1]))\n",
        "\n",
        "print(sumcntRDD_combined.take(5))\n",
        "genre_result =sumcntRDD_combined.mapValues(lambda value: value[0]/value[1])\n",
        "print(\"The average rating for each genre is: \")\n",
        "print(genre_result.take(5))"
      ],
      "execution_count": null,
      "outputs": [
        {
          "output_type": "stream",
          "text": [
            "[('Children', (31426.5, 9208)), ('Fantasy', (41312.5, 11834)), ('Romance', (63552.0, 18124)), ('Action', (105629.0, 30635)), ('Thriller', (92415.5, 26452))]\n",
            "The average rating for each genre is: \n",
            "[('Children', 3.412956125108601), ('Fantasy', 3.4910005070136894), ('Romance', 3.5065107040388437), ('Action', 3.447984331646809), ('Thriller', 3.4937055799183425)]\n"
          ],
          "name": "stdout"
        }
      ]
    },
    {
      "cell_type": "code",
      "metadata": {
        "colab": {
          "base_uri": "https://localhost:8080/",
          "height": 185
        },
        "id": "3q7tnvITuAfM",
        "outputId": "2b7938a7-f15a-4eaf-e270-20fc3acda7c3"
      },
      "source": [
        "A = parallelize([('d1',['cat','tiger','lion','leopard']), \\\n",
        "('d2',['tiger','lion','jaguar']), \\\n",
        "('d3',['dog','wolf','jackal']), \\\n",
        "('d4',['dog','coyotte','jackal','wolf'])])"
      ],
      "execution_count": null,
      "outputs": [
        {
          "output_type": "error",
          "ename": "NameError",
          "evalue": "ignored",
          "traceback": [
            "\u001b[0;31m---------------------------------------------------------------------------\u001b[0m",
            "\u001b[0;31mNameError\u001b[0m                                 Traceback (most recent call last)",
            "\u001b[0;32m<ipython-input-2-f35e8228265f>\u001b[0m in \u001b[0;36m<module>\u001b[0;34m()\u001b[0m\n\u001b[0;32m----> 1\u001b[0;31m \u001b[0mA\u001b[0m \u001b[0;34m=\u001b[0m \u001b[0mparallelize\u001b[0m\u001b[0;34m(\u001b[0m\u001b[0;34m[\u001b[0m\u001b[0;34m(\u001b[0m\u001b[0;34m'd1'\u001b[0m\u001b[0;34m,\u001b[0m\u001b[0;34m[\u001b[0m\u001b[0;34m'cat'\u001b[0m\u001b[0;34m,\u001b[0m\u001b[0;34m'tiger'\u001b[0m\u001b[0;34m,\u001b[0m\u001b[0;34m'lion'\u001b[0m\u001b[0;34m,\u001b[0m\u001b[0;34m'leopard'\u001b[0m\u001b[0;34m]\u001b[0m\u001b[0;34m)\u001b[0m\u001b[0;34m,\u001b[0m \u001b[0;34m(\u001b[0m\u001b[0;34m'd2'\u001b[0m\u001b[0;34m,\u001b[0m\u001b[0;34m[\u001b[0m\u001b[0;34m'tiger'\u001b[0m\u001b[0;34m,\u001b[0m\u001b[0;34m'lion'\u001b[0m\u001b[0;34m,\u001b[0m\u001b[0;34m'jaguar'\u001b[0m\u001b[0;34m]\u001b[0m\u001b[0;34m)\u001b[0m\u001b[0;34m,\u001b[0m \u001b[0;34m(\u001b[0m\u001b[0;34m'd3'\u001b[0m\u001b[0;34m,\u001b[0m\u001b[0;34m[\u001b[0m\u001b[0;34m'dog'\u001b[0m\u001b[0;34m,\u001b[0m\u001b[0;34m'wolf'\u001b[0m\u001b[0;34m,\u001b[0m\u001b[0;34m'jackal'\u001b[0m\u001b[0;34m]\u001b[0m\u001b[0;34m)\u001b[0m\u001b[0;34m,\u001b[0m \u001b[0;34m(\u001b[0m\u001b[0;34m'd4'\u001b[0m\u001b[0;34m,\u001b[0m\u001b[0;34m[\u001b[0m\u001b[0;34m'dog'\u001b[0m\u001b[0;34m,\u001b[0m\u001b[0;34m'coyotte'\u001b[0m\u001b[0;34m,\u001b[0m\u001b[0;34m'jackal'\u001b[0m\u001b[0;34m,\u001b[0m\u001b[0;34m'wolf'\u001b[0m\u001b[0;34m]\u001b[0m\u001b[0;34m)\u001b[0m\u001b[0;34m]\u001b[0m\u001b[0;34m)\u001b[0m\u001b[0;34m\u001b[0m\u001b[0;34m\u001b[0m\u001b[0m\n\u001b[0m",
            "\u001b[0;31mNameError\u001b[0m: name 'parallelize' is not defined"
          ]
        }
      ]
    }
  ]
}